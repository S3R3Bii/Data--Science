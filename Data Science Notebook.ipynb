{
    "cells": [
        {
            "cell_type": "markdown",
            "metadata": {
                "collapsed": true,
                "id": "5e6da945-2ba5-472f-bcd7-fa37eda44d42",
                "jupyter": {
                    "outputs_hidden": true
                }
            },
            "source": "#I published this from WatsonX onto GitHub. GIVE ME A COOKIE!"
        },
        {
            "cell_type": "code",
            "execution_count": 1,
            "metadata": {
                "id": "03320354-f53c-4e1e-affd-2942685ef508"
            },
            "outputs": [
                {
                    "data": {
                        "text/plain": "14172480"
                    },
                    "execution_count": 1,
                    "metadata": {},
                    "output_type": "execute_result"
                }
            ],
            "source": "8*888*1995"
        },
        {
            "cell_type": "code",
            "execution_count": 2,
            "metadata": {
                "id": "7731c4fd-5dae-40be-ab2f-dee4d4b973f7"
            },
            "outputs": [
                {
                    "ename": "NameError",
                    "evalue": "name 'no' is not defined",
                    "output_type": "error",
                    "traceback": [
                        "\u001b[0;31m---------------------------------------------------------------------------\u001b[0m",
                        "\u001b[0;31mNameError\u001b[0m                                 Traceback (most recent call last)",
                        "Cell \u001b[0;32mIn[2], line 1\u001b[0m\n\u001b[0;32m----> 1\u001b[0m yes \u001b[38;5;241m=\u001b[39m no\n",
                        "\u001b[0;31mNameError\u001b[0m: name 'no' is not defined"
                    ]
                }
            ],
            "source": "yes = no\n"
        },
        {
            "cell_type": "code",
            "execution_count": 4,
            "metadata": {
                "id": "7e23991d-08fd-4362-93e2-ba31a487591b"
            },
            "outputs": [
                {
                    "ename": "NameError",
                    "evalue": "name 'c' is not defined",
                    "output_type": "error",
                    "traceback": [
                        "\u001b[0;31m---------------------------------------------------------------------------\u001b[0m",
                        "\u001b[0;31mNameError\u001b[0m                                 Traceback (most recent call last)",
                        "Cell \u001b[0;32mIn[4], line 1\u001b[0m\n\u001b[0;32m----> 1\u001b[0m yes \u001b[38;5;241m=\u001b[39m c(\u001b[38;5;124m\"\u001b[39m\u001b[38;5;124mkittens\u001b[39m\u001b[38;5;124m\"\u001b[39m, \u001b[38;5;124m\"\u001b[39m\u001b[38;5;124mPuppies\u001b[39m\u001b[38;5;124m\"\u001b[39m, \u001b[38;5;124m\"\u001b[39m\u001b[38;5;124mdoggos\u001b[39m\u001b[38;5;124m\"\u001b[39m)\n",
                        "\u001b[0;31mNameError\u001b[0m: name 'c' is not defined"
                    ]
                }
            ],
            "source": "yes = c(\"kittens\", \"Puppies\", \"doggos\")\n"
        },
        {
            "cell_type": "code",
            "execution_count": null,
            "metadata": {
                "id": "c430ff89-e5d1-4635-bd89-5805c3ce5391"
            },
            "outputs": [],
            "source": ""
        }
    ],
    "metadata": {
        "kernelspec": {
            "display_name": "Python 3.11",
            "language": "python",
            "name": "python3"
        },
        "language_info": {
            "codemirror_mode": {
                "name": "ipython",
                "version": 3
            },
            "file_extension": ".py",
            "mimetype": "text/x-python",
            "name": "python",
            "nbconvert_exporter": "python",
            "pygments_lexer": "ipython3",
            "version": "3.11.9"
        }
    },
    "nbformat": 4,
    "nbformat_minor": 4
}